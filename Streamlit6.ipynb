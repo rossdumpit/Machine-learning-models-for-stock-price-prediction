{
 "cells": [
  {
   "cell_type": "code",
   "execution_count": 1,
   "id": "2670d46f-6870-45bf-ba4e-7c4068fe641c",
   "metadata": {},
   "outputs": [],
   "source": [
    "import streamlit as st"
   ]
  },
  {
   "cell_type": "code",
   "execution_count": 2,
   "id": "ac7c1158-1cf2-4fee-b2b2-1309a5d3e39b",
   "metadata": {},
   "outputs": [],
   "source": [
    "import yfinance as yf\n",
    "import numpy as np\n",
    "import tensorflow as tf\n",
    "from tensorflow import keras\n",
    "import pandas as pd\n",
    "import plotly.graph_objects as go\n",
    "from matplotlib import pyplot as plt\n",
    "import seaborn as sns\n",
    "from keras.models import load_model\n",
    "import pandas_datareader as data\n",
    "from datetime import date\n",
    "import joblib\n",
    "from sklearn.preprocessing import MinMaxScaler"
   ]
  },
  {
   "cell_type": "code",
   "execution_count": null,
   "id": "71bec754-3e80-4256-9ee6-1cb45fff6389",
   "metadata": {},
   "outputs": [],
   "source": [
    "START = \"2015-01-01\"\n",
    "TODAY = date.today().strftime(\"%Y-%m-%d\")"
   ]
  },
  {
   "cell_type": "code",
   "execution_count": null,
   "id": "e6da9bec-a91b-4129-ae72-f70f8a115a12",
   "metadata": {},
   "outputs": [],
   "source": [
    "st.title('Stock Prediction using LSTM')"
   ]
  },
  {
   "cell_type": "code",
   "execution_count": null,
   "id": "7e1c22af-bd91-4d15-9d05-9d318f748e00",
   "metadata": {},
   "outputs": [],
   "source": [
    "stocks = (\"NVDA\",\"BCS\",\"PFE\")\n",
    "selected_stock = st.selectbox(\"Select dataset for prediction\", stocks)"
   ]
  },
  {
   "cell_type": "code",
   "execution_count": null,
   "id": "a85e3beb-ca2a-4010-8fa2-461d79f6296a",
   "metadata": {},
   "outputs": [],
   "source": [
    "@st.cache_data"
   ]
  },
  {
   "cell_type": "code",
   "execution_count": null,
   "id": "2e3a33c6-7634-4dc6-955a-7ae2e6d936a6",
   "metadata": {},
   "outputs": [],
   "source": [
    "def load_data(ticker):\n",
    "    data = yf.download(ticker, START,TODAY)\n",
    "    return data"
   ]
  },
  {
   "cell_type": "code",
   "execution_count": null,
   "id": "43e60f2d-2b76-4f7b-bba7-964dcf69ed96",
   "metadata": {},
   "outputs": [],
   "source": [
    "data_load_state = st.text(\"Load data. . .\")\n",
    "data = load_data(selected_stock)\n",
    "data_load_state.text(\"Loading data . . . done!\")"
   ]
  },
  {
   "cell_type": "code",
   "execution_count": null,
   "id": "c326ea58-ea44-4475-8ec4-14ed99381eeb",
   "metadata": {},
   "outputs": [],
   "source": [
    "st.subheader('Data from 2015')\n",
    "st.write(data.describe())"
   ]
  },
  {
   "cell_type": "code",
   "execution_count": null,
   "id": "6af2ffaa-0c53-4e33-b43d-9bbd739dae43",
   "metadata": {},
   "outputs": [],
   "source": [
    "def plot_raw_data():\n",
    "    fig1 = go.Figure()\n",
    "    fig1.add_trace(go.Scatter(x=data.index , y= data['Adj Close'], name = 'Stock_AdjClose'))\n",
    "    fig1.add_trace(go.Scatter(x=data.index , y= data['Open'], name = 'Stock_Open'))\n",
    "    fig1.layout.update(title_text='Time Series Data', xaxis_rangeslider_visible=True)\n",
    "    st.plotly_chart(fig1)"
   ]
  },
  {
   "cell_type": "code",
   "execution_count": null,
   "id": "c7833ebf-b266-4d15-8df0-ce4d0519a8b0",
   "metadata": {},
   "outputs": [],
   "source": [
    "plot_raw_data()"
   ]
  },
  {
   "cell_type": "code",
   "execution_count": null,
   "id": "ed668ce7-d828-4af7-8e03-3fb8c7c92d18",
   "metadata": {},
   "outputs": [],
   "source": [
    "def fetch_data():\n",
    "    # Fetch or load your data here\n",
    "    # For example, you might use Pandas to read from a CSV file or fetch from a database\n",
    "    return data"
   ]
  },
  {
   "cell_type": "code",
   "execution_count": null,
   "id": "ea49dd5e-69b7-47a8-b374-15873a31e5cf",
   "metadata": {},
   "outputs": [],
   "source": [
    "st.subheader('Closing Price vs Time chart with 100MA & 200MA')\n",
    "ma100 = data.Close.rolling(100).mean()\n",
    "ma200 = data.Close.rolling(200).mean()\n",
    "fig3 = plt.figure(figsize = (12,6))\n",
    "plt.plot(ma100, 'red', label='100MA')\n",
    "plt.plot(ma200, 'blue',label='200MA')\n",
    "plt.plot(data.Close, 'green')\n",
    "plt.legend()\n",
    "st.pyplot(fig3)\n"
   ]
  },
  {
   "cell_type": "code",
   "execution_count": null,
   "id": "4ad8b897-2ba2-4f5c-b2a2-f52ee1c011bd",
   "metadata": {},
   "outputs": [],
   "source": [
    "#jupyter nbconvert --to script Streamlit6.ipynb\n",
    "#streamlit run Streamlit6.py\n",
    "#%matplotlib inline"
   ]
  },
  {
   "cell_type": "code",
   "execution_count": null,
   "id": "3e32863a-96f6-46d2-8dcf-702850ca9f5f",
   "metadata": {},
   "outputs": [],
   "source": [
    "features = ['Open', 'High', 'Low', 'Close']"
   ]
  },
  {
   "cell_type": "code",
   "execution_count": null,
   "id": "32b4f2df-ed57-4546-a451-880280e44123",
   "metadata": {},
   "outputs": [],
   "source": [
    "#Scaling\n",
    "scaler = MinMaxScaler()\n",
    "feature_transform = scaler.fit_transform(data[features])\n",
    "feature_transform= pd.DataFrame(columns=features, data=feature_transform,index=data.index)"
   ]
  },
  {
   "cell_type": "code",
   "execution_count": null,
   "id": "811b4d10-18c4-456d-bdfe-bc5c992ad5ba",
   "metadata": {},
   "outputs": [],
   "source": [
    "df1 = data[['Adj Close']].copy()"
   ]
  },
  {
   "cell_type": "code",
   "execution_count": null,
   "id": "feea86fb-9dd4-4da8-890b-14bfb4f27c01",
   "metadata": {},
   "outputs": [],
   "source": [
    "# Scaling target data\n",
    "scaler = MinMaxScaler()\n",
    "df1 ['Adj Close'] = scaler.fit_transform(df1 [['Adj Close']])"
   ]
  },
  {
   "cell_type": "code",
   "execution_count": null,
   "id": "9ce4e0ea-cdb1-4be1-88ac-43729c01e029",
   "metadata": {},
   "outputs": [],
   "source": [
    "#Process the data for LSTM\n",
    "trainX =np.array(feature_transform)"
   ]
  },
  {
   "cell_type": "code",
   "execution_count": null,
   "id": "59aff60d-aa2c-46c0-8f28-d6978f982883",
   "metadata": {},
   "outputs": [],
   "source": [
    "X_train = trainX.reshape(feature_transform.shape[0], 1, feature_transform.shape[1])"
   ]
  },
  {
   "cell_type": "code",
   "execution_count": null,
   "id": "26981ebc-7515-41f1-8218-8de286c39f7e",
   "metadata": {},
   "outputs": [],
   "source": [
    "lstm = load_model(r\"C:\\Users\\ross0\\OneDrive\\lstm_model.keras\")"
   ]
  },
  {
   "cell_type": "code",
   "execution_count": null,
   "id": "aafdeeb3-e8b4-427a-a7aa-8b159a7944a1",
   "metadata": {},
   "outputs": [],
   "source": [
    "#LSTM Prediction\n",
    "y_pred= lstm.predict(X_train)"
   ]
  },
  {
   "cell_type": "code",
   "execution_count": null,
   "id": "be8d7b04-209f-4f53-b2d0-04e3ccf78ae2",
   "metadata": {},
   "outputs": [],
   "source": [
    "y_pred = scaler.inverse_transform(y_pred)"
   ]
  },
  {
   "cell_type": "code",
   "execution_count": null,
   "id": "dfd53a22-32a9-428f-ab23-97acffac2dc0",
   "metadata": {},
   "outputs": [],
   "source": [
    "# Inverse transforming the scaled data\n",
    "df1[['Adj Close']] = scaler.inverse_transform(df1[['Adj Close']])"
   ]
  },
  {
   "cell_type": "code",
   "execution_count": null,
   "id": "2c569c6d-f231-437a-a836-88b9bb63bded",
   "metadata": {},
   "outputs": [],
   "source": [
    "# Reassigning the scaled data to the 'Adj Close' column\n",
    "df1 = pd.DataFrame(data=df1['Adj Close'], index=df1.index, columns=['Adj Close'])"
   ]
  },
  {
   "cell_type": "code",
   "execution_count": null,
   "id": "ffc564e1-9dc5-4b3b-8cd0-499a35340917",
   "metadata": {},
   "outputs": [],
   "source": [
    "df1 = df1.assign(y_pred = y_pred)"
   ]
  },
  {
   "cell_type": "code",
   "execution_count": null,
   "id": "83f8b4f8-c55f-47bf-986b-041a852bda14",
   "metadata": {},
   "outputs": [],
   "source": [
    "st.subheader('LSTM model vs Actual \"Adj Close\" price')\n",
    "\n",
    "fig4 = plt.figure(figsize = (12,6))\n",
    "plt.plot(df1['Adj Close'], 'red',label='Actual Adj Close')\n",
    "plt.plot(df1['y_pred'], 'blue',label='Predicted Adj Close')\n",
    "# # Setting title and labels\n",
    "plt.title(\"Prediction by LSTM\")\n",
    "plt.xlabel('Date')\n",
    "plt.ylabel('Adj Close Prices')\n",
    "\n",
    "# Adding legend\n",
    "plt.legend()\n",
    "st.pyplot(fig4)"
   ]
  },
  {
   "cell_type": "code",
   "execution_count": null,
   "id": "9e75e86f-8620-4436-8146-83322e48b110",
   "metadata": {},
   "outputs": [],
   "source": [
    "def predict(Open, High, Low, Close):\n",
    "    dx = pd.DataFrame({\n",
    "        'Open': [Open],\n",
    "        'High': [High],\n",
    "        'Low': [Low],\n",
    "        'Close': [Close]\n",
    "    })\n",
    "    # Calculate the average of Open, High, Low, and Close\n",
    "    dx1 = dx[['Open', 'High', 'Low', 'Close']].mean(axis=1)\n",
    "    #Create a new DataFrame with the average values\n",
    "    dx1 = pd.DataFrame(dx1, columns=['Average'])\n",
    "    # List of features\n",
    "    features = ['Open', 'High', 'Low', 'Close']\n",
    "    # Scale the features\n",
    "    scaler = MinMaxScaler()\n",
    "    dx_feature_transform = scaler.fit_transform(dx[features])\n",
    "    # Convert to DataFrame\n",
    "    dx_feature_transform = pd.DataFrame(columns=features, data=dx_feature_transform)\n",
    "    trainx =np.array(dx_feature_transform)\n",
    "    x_train = trainx.reshape(dx_feature_transform.shape[0], 1, dx_feature_transform.shape[1])\n",
    "    x_pred= lstm.predict(x_train)\n",
    "    scaler = MinMaxScaler()\n",
    "    dx1_feature_transform = scaler.fit_transform(dx1['Average'].values.reshape(-1, 1))\n",
    "    # Convert scaled values back to DataFrame\n",
    "    dx_1feature_transform = pd.DataFrame(dx1_feature_transform, columns=['Scaled_Average'])\n",
    "    x_pred = scaler.inverse_transform(x_pred)\n",
    "    return x_pred\n",
    "    "
   ]
  },
  {
   "cell_type": "code",
   "execution_count": null,
   "id": "b93639c1-676f-4dcd-b7f5-18b8fad2b379",
   "metadata": {},
   "outputs": [],
   "source": [
    "def main():\n",
    "    st.title('Predict Adj Close Price for the next day')\n",
    "\n",
    "    st.write('Enter prices in the format: Open High Low Close')\n",
    "    user_input = st.text_input('Prices', '492.44 492.95 475.95 481.68')\n",
    "    \n",
    "    if st.button('Predict'):\n",
    "        # Split the user input and convert to floats\n",
    "        try:\n",
    "            Open, High, Low, Close = map(float, user_input.split())\n",
    "            # Call your predict function with user input\n",
    "            predicted_value = predict(Open, High, Low, Close)\n",
    "            st.write(f\"The predicted 'Adj Close' tomorrow is {predicted_value}\")\n",
    "            # Display animated GIF after prediction\n",
    "            st.markdown(\n",
    "                \"\"\"\n",
    "                <style>\n",
    "                @keyframes fadeIn {\n",
    "                    from {\n",
    "                        opacity: 0;\n",
    "                    }\n",
    "                    to {\n",
    "                        opacity: 1;\n",
    "                    }\n",
    "                }\n",
    "                .fadeInImage {\n",
    "                    animation: fadeIn 3.5s; /* Change the duration to 3 seconds */\n",
    "                }\n",
    "                </style>\n",
    "                \"\"\"\n",
    "            , unsafe_allow_html=True)\n",
    "            st.image('https://i.gifer.com/CeaB.gif', use_column_width=True)\n",
    "        except ValueError:\n",
    "            st.error('Please enter valid prices in the format: Open High Low Close')\n",
    "\n",
    "if __name__ == \"__main__\":\n",
    "    main()"
   ]
  }
 ],
 "metadata": {
  "kernelspec": {
   "display_name": "Python 3 (ipykernel)",
   "language": "python",
   "name": "python3"
  },
  "language_info": {
   "codemirror_mode": {
    "name": "ipython",
    "version": 3
   },
   "file_extension": ".py",
   "mimetype": "text/x-python",
   "name": "python",
   "nbconvert_exporter": "python",
   "pygments_lexer": "ipython3",
   "version": "3.11.7"
  }
 },
 "nbformat": 4,
 "nbformat_minor": 5
}
